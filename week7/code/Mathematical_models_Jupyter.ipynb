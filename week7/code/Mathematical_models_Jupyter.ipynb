{
 "cells": [
  {
   "cell_type": "markdown",
   "id": "d8615bf5",
   "metadata": {},
   "source": [
    "Import matplotlib and scipy"
   ]
  },
  {
   "cell_type": "code",
   "execution_count": 32,
   "id": "3ac48269",
   "metadata": {},
   "outputs": [],
   "source": [
    "%matplotlib inline\n",
    "import matplotlib.pyplot as p"
   ]
  },
  {
   "cell_type": "code",
   "execution_count": 33,
   "id": "7cb572d3",
   "metadata": {},
   "outputs": [],
   "source": [
    "from sympy import *\n",
    "import scipy as sc\n",
    "init_printing() # for pretty-printing equations etc"
   ]
  },
  {
   "cell_type": "markdown",
   "id": "0778a131",
   "metadata": {},
   "source": [
    "__Symbolic variables__"
   ]
  },
  {
   "cell_type": "code",
   "execution_count": 34,
   "id": "4a10274e",
   "metadata": {},
   "outputs": [
    {
     "data": {
      "text/plain": [
       "sympy.core.symbol.Symbol"
      ]
     },
     "execution_count": 34,
     "metadata": {},
     "output_type": "execute_result"
    }
   ],
   "source": [
    "# Create a new symbloc variable\n",
    "x = var('x')\n",
    "type(x) # check it's class"
   ]
  },
  {
   "cell_type": "code",
   "execution_count": 35,
   "id": "7670de79",
   "metadata": {},
   "outputs": [],
   "source": [
    "# Define multiple variables at once\n",
    "a, b, c = var(\"a, b, c\")"
   ]
  },
  {
   "cell_type": "code",
   "execution_count": 36,
   "id": "2f6efccd",
   "metadata": {},
   "outputs": [],
   "source": [
    "# Add assumptions (constraints) to variable x\n",
    "x = var('x', real=True)"
   ]
  },
  {
   "cell_type": "code",
   "execution_count": 37,
   "id": "e19adea1",
   "metadata": {},
   "outputs": [
    {
     "data": {
      "text/plain": [
       "False"
      ]
     },
     "execution_count": 37,
     "metadata": {},
     "output_type": "execute_result"
    }
   ],
   "source": [
    "# Check if x is real or imaginary\n",
    "x.is_imaginary"
   ]
  },
  {
   "cell_type": "code",
   "execution_count": 38,
   "id": "cf58e2ec",
   "metadata": {},
   "outputs": [],
   "source": [
    "# Create variable x, which is a symbol for a positive value\n",
    "x = Symbol('x', positive=True)"
   ]
  },
  {
   "cell_type": "code",
   "execution_count": 39,
   "id": "f11752db",
   "metadata": {},
   "outputs": [
    {
     "data": {
      "image/png": "[encoded data removed]",
      "text/latex": [
       "$\\displaystyle \\text{True}$"
      ],
      "text/plain": [
       "True"
      ]
     },
     "execution_count": 39,
     "metadata": {},
     "output_type": "execute_result"
    }
   ],
   "source": [
    "x > 0"
   ]
  },
  {
   "cell_type": "code",
   "execution_count": 40,
   "id": "e86f968c",
   "metadata": {},
   "outputs": [
    {
     "data": {
      "image/png": "[encoded data removed]",
      "text/latex": [
       "$\\displaystyle \\text{False}$"
      ],
      "text/plain": [
       "False"
      ]
     },
     "execution_count": 40,
     "metadata": {},
     "output_type": "execute_result"
    }
   ],
   "source": [
    "x < 0"
   ]
  },
  {
   "cell_type": "markdown",
   "id": "0ee73189",
   "metadata": {},
   "source": [
    "__Symbolic equations__"
   ]
  },
  {
   "cell_type": "code",
   "execution_count": 54,
   "id": "278701f2",
   "metadata": {},
   "outputs": [
    {
     "data": {
      "image/png": "[encoded data removed]",
      "text/latex": [
       "$\\displaystyle \\left(x + \\pi\\right)^{2}$"
      ],
      "text/plain": [
       "       2\n",
       "(x + π) "
      ]
     },
     "execution_count": 54,
     "metadata": {},
     "output_type": "execute_result"
    }
   ],
   "source": [
    "# Create a function (mathmatical equation)\n",
    "MyFun = (pi + x)**2; MyFun"
   ]
  },
  {
   "cell_type": "code",
   "execution_count": 51,
   "id": "3a1823f9",
   "metadata": {},
   "outputs": [],
   "source": [
    "N_0 = var('N_0')\n",
    "N_max = var('N_max')\n",
    "r_max = var('r_max')\n",
    "t_lag = var('t_lag')\n",
    "t = var('t')\n",
    "\n",
    "MyFun = N_0 + (N_max - N_0) * exp(-exp(r_max * exp(1) * (t_lag - t)/((N_max - N_0) * log(10)) + 1))"
   ]
  },
  {
   "cell_type": "code",
   "execution_count": 64,
   "id": "cf43d1e0",
   "metadata": {},
   "outputs": [
    {
     "data": {
      "text/plain": [
       "'\\\\left(x + \\\\pi\\\\right)^{2}'"
      ]
     },
     "execution_count": 64,
     "metadata": {},
     "output_type": "execute_result"
    }
   ],
   "source": [
    "latex(MyFun)"
   ]
  },
  {
   "cell_type": "code",
   "execution_count": 65,
   "id": "b312500a",
   "metadata": {},
   "outputs": [
    {
     "name": "stdout",
     "output_type": "stream",
     "text": [
      "\\left(x + \\pi\\right)^{2}\n"
     ]
    }
   ],
   "source": [
    "print(latex(MyFun))"
   ]
  },
  {
   "cell_type": "markdown",
   "id": "a0092067",
   "metadata": {},
   "source": [
    "__Numerical evaluation__"
   ]
  },
  {
   "cell_type": "code",
   "execution_count": 66,
   "id": "ae133a1b",
   "metadata": {},
   "outputs": [
    {
     "data": {
      "image/png": "[encoded data removed]",
      "text/latex": [
       "$\\displaystyle 3.141592653589793238462643383279502884197169399375105820974944592307816406286208998628034825342117068$"
      ],
      "text/plain": [
       "3.1415926535897932384626433832795028841971693993751058209749445923078164062862\n",
       "08998628034825342117068"
      ]
     },
     "execution_count": 66,
     "metadata": {},
     "output_type": "execute_result"
    }
   ],
   "source": [
    "pi.evalf(n=100) # pi to a 100 places after decimal!"
   ]
  },
  {
   "cell_type": "code",
   "execution_count": 67,
   "id": "b91e875f",
   "metadata": {},
   "outputs": [
    {
     "data": {
      "image/png": "[encoded data removed]",
      "text/latex": [
       "$\\displaystyle 3.1415926535897932384626433832795028841971693993751$"
      ],
      "text/plain": [
       "3.1415926535897932384626433832795028841971693993751"
      ]
     },
     "execution_count": 67,
     "metadata": {},
     "output_type": "execute_result"
    }
   ],
   "source": [
    "N(pi, 50) # N() is the shorthand alias for evalf()"
   ]
  },
  {
   "cell_type": "code",
   "execution_count": 68,
   "id": "308246a8",
   "metadata": {},
   "outputs": [
    {
     "data": {
      "image/png": "[encoded data removed]",
      "text/latex": [
       "$\\displaystyle 9.8696 \\left(0.31831 x + 1\\right)^{2}$"
      ],
      "text/plain": [
       "                      2\n",
       "9.8696⋅(0.31831⋅x + 1) "
      ]
     },
     "execution_count": 68,
     "metadata": {},
     "output_type": "execute_result"
    }
   ],
   "source": [
    "# Using evalf with our function\n",
    "N(MyFun, 5)"
   ]
  },
  {
   "cell_type": "code",
   "execution_count": 69,
   "id": "34f0bc1d",
   "metadata": {},
   "outputs": [
    {
     "data": {
      "image/png": "[encoded data removed]",
      "text/latex": [
       "$\\displaystyle \\left(1.5 + \\pi\\right)^{2}$"
      ],
      "text/plain": [
       "         2\n",
       "(1.5 + π) "
      ]
     },
     "execution_count": 69,
     "metadata": {},
     "output_type": "execute_result"
    }
   ],
   "source": [
    " MyFun.subs(x, 1.5) # use subs function to subsitute a symbol with a numerical value"
   ]
  },
  {
   "cell_type": "code",
   "execution_count": 70,
   "id": "2fbf1a92",
   "metadata": {},
   "outputs": [
    {
     "data": {
      "image/png": "[encoded data removed]",
      "text/latex": [
       "$\\displaystyle \\left(a + 2 \\pi\\right)^{2}$"
      ],
      "text/plain": [
       "         2\n",
       "(a + 2⋅π) "
      ]
     },
     "execution_count": 70,
     "metadata": {},
     "output_type": "execute_result"
    }
   ],
   "source": [
    " MyFun.subs(x, a+pi) # The subs function can also be used to substitute mathematical variables or expressions."
   ]
  },
  {
   "cell_type": "code",
   "execution_count": 71,
   "id": "578066c3",
   "metadata": {},
   "outputs": [
    {
     "data": {
      "image/png": "[encoded data removed]",
      "text/latex": [
       "$\\displaystyle \\left(a + 2 \\pi\\right)^{2}$"
      ],
      "text/plain": [
       "         2\n",
       "(a + 2⋅π) "
      ]
     },
     "execution_count": 71,
     "metadata": {},
     "output_type": "execute_result"
    }
   ],
   "source": [
    "MyFun_new = MyFun.subs(x, a+pi); MyFun_new # Assign above as a new symbolic equation"
   ]
  },
  {
   "cell_type": "code",
   "execution_count": 72,
   "id": "e5bfb37a",
   "metadata": {},
   "outputs": [
    {
     "name": "stderr",
     "output_type": "stream",
     "text": [
      "/tmp/ipykernel_10258/3660578478.py:1: DeprecationWarning: scipy.arange is deprecated and will be removed in SciPy 2.0.0, use numpy.arange instead\n",
      "  x_vec = sc.arange(0, 10, 0.1) # Numerically evaluate the function over a range of values using NumPy arrays\n"
     ]
    }
   ],
   "source": [
    "x_vec = sc.arange(0, 10, 0.1) # Numerically evaluate the function over a range of values using NumPy arrays"
   ]
  },
  {
   "cell_type": "code",
   "execution_count": 73,
   "id": "a06bf4d5",
   "metadata": {},
   "outputs": [
    {
     "name": "stderr",
     "output_type": "stream",
     "text": [
      "/tmp/ipykernel_10258/4244912379.py:1: DeprecationWarning: scipy.array is deprecated and will be removed in SciPy 2.0.0, use numpy.array instead\n",
      "  MyFun_vec = sc.array([N(MyFun.subs(x, xx)) for xx in x_vec])\n"
     ]
    }
   ],
   "source": [
    "MyFun_vec = sc.array([N(MyFun.subs(x, xx)) for xx in x_vec])"
   ]
  },
  {
   "cell_type": "code",
   "execution_count": 74,
   "id": "1e7d0324",
   "metadata": {},
   "outputs": [
    {
     "name": "stderr",
     "output_type": "stream",
     "text": [
      "/tmp/ipykernel_10258/348476544.py:1: DeprecationWarning: scipy.array is deprecated and will be removed in SciPy 2.0.0, use numpy.array instead\n",
      "  MyFun_new_vec = sc.array([N((MyFun_new).subs(a, xx)) for xx in x_vec]) # Evaluate the new function MyFun_new we created by substitution above\n"
     ]
    }
   ],
   "source": [
    "MyFun_new_vec = sc.array([N((MyFun_new).subs(a, xx)) for xx in x_vec]) # Evaluate the new function MyFun_new we created by substitution above"
   ]
  },
  {
   "cell_type": "code",
   "execution_count": 87,
   "id": "8ebe84b0",
   "metadata": {},
   "outputs": [
    {
     "ename": "NameError",
     "evalue": "name 'plt' is not defined",
     "output_type": "error",
     "traceback": [
      "\u001b[0;31m---------------------------------------------------------------------------\u001b[0m",
      "\u001b[0;31mNameError\u001b[0m                                 Traceback (most recent call last)",
      "\u001b[0;32m/tmp/ipykernel_10258/2641707015.py\u001b[0m in \u001b[0;36m<module>\u001b[0;34m\u001b[0m\n\u001b[1;32m      3\u001b[0m \u001b[0max\u001b[0m\u001b[0;34m.\u001b[0m\u001b[0mplot\u001b[0m\u001b[0;34m(\u001b[0m\u001b[0mx_vec\u001b[0m\u001b[0;34m,\u001b[0m \u001b[0mMyFun_vec\u001b[0m\u001b[0;34m)\u001b[0m\u001b[0;34m\u001b[0m\u001b[0;34m\u001b[0m\u001b[0m\n\u001b[1;32m      4\u001b[0m \u001b[0max\u001b[0m\u001b[0;34m.\u001b[0m\u001b[0mplot\u001b[0m\u001b[0;34m(\u001b[0m\u001b[0mx_vec\u001b[0m\u001b[0;34m,\u001b[0m \u001b[0mMyFun_new_vec\u001b[0m\u001b[0;34m)\u001b[0m\u001b[0;34m\u001b[0m\u001b[0;34m\u001b[0m\u001b[0m\n\u001b[0;32m----> 5\u001b[0;31m \u001b[0mplt\u001b[0m\u001b[0;34m.\u001b[0m\u001b[0mlegend\u001b[0m\u001b[0;34m(\u001b[0m\u001b[0mbbox_to_anchor\u001b[0m\u001b[0;34m=\u001b[0m\u001b[0;34m(\u001b[0m\u001b[0;36m1.05\u001b[0m\u001b[0;34m,\u001b[0m \u001b[0;36m1\u001b[0m\u001b[0;34m)\u001b[0m\u001b[0;34m,\u001b[0m \u001b[0mloc\u001b[0m\u001b[0;34m=\u001b[0m\u001b[0;36m2\u001b[0m\u001b[0;34m,\u001b[0m \u001b[0mborderaxespad\u001b[0m\u001b[0;34m=\u001b[0m\u001b[0;36m0.\u001b[0m\u001b[0;34m)\u001b[0m\u001b[0;34m\u001b[0m\u001b[0;34m\u001b[0m\u001b[0m\n\u001b[0m",
      "\u001b[0;31mNameError\u001b[0m: name 'plt' is not defined"
     ]
    },
    {
     "data": {
      "image/png": "[encoded data removed]",
      "text/plain": [
       "<Figure size 432x288 with 1 Axes>"
      ]
     },
     "metadata": {
      "needs_background": "light"
     },
     "output_type": "display_data"
    }
   ],
   "source": [
    "# Plot the two functions \n",
    "fig, ax = p.subplots()\n",
    "ax.plot(x_vec, MyFun_vec)\n",
    "ax.plot(x_vec, MyFun_new_vec)"
   ]
  },
  {
   "cell_type": "markdown",
   "id": "ce604cb7",
   "metadata": {},
   "source": [
    "A more efficient way to do the above using lambdify() to “compile” a Sympy expression into a function that is much more efficient to evaluate numerically"
   ]
  },
  {
   "cell_type": "code",
   "execution_count": 92,
   "id": "890aa01b",
   "metadata": {},
   "outputs": [],
   "source": [
    "MyFun_lamb = lambdify([x], MyFun, 'numpy')"
   ]
  },
  {
   "cell_type": "code",
   "execution_count": 93,
   "id": "e26b4d1d",
   "metadata": {},
   "outputs": [],
   "source": [
    "MyFun_vec = MyFun_lamb(x_vec)"
   ]
  },
  {
   "cell_type": "code",
   "execution_count": 96,
   "id": "8cc9df97",
   "metadata": {
    "scrolled": true
   },
   "outputs": [
    {
     "name": "stderr",
     "output_type": "stream",
     "text": [
      "<magic-timeit>:1: DeprecationWarning: scipy.array is deprecated and will be removed in SciPy 2.0.0, use numpy.array instead\n"
     ]
    },
    {
     "name": "stdout",
     "output_type": "stream",
     "text": [
      "14.8 ms ± 358 µs per loop (mean ± std. dev. of 7 runs, 100 loops each)\n"
     ]
    }
   ],
   "source": [
    "%%timeit #test how long the above function works\n",
    "\n",
    "MyFun_vec = sc.array([N(((x + pi)**2).subs(x, xx)) for xx in x_vec])"
   ]
  },
  {
   "cell_type": "markdown",
   "id": "a3e84435",
   "metadata": {},
   "source": [
    "__Fundamental mathematical operations__"
   ]
  },
  {
   "cell_type": "markdown",
   "id": "b0ed2b60",
   "metadata": {},
   "source": [
    "*Expand and factor*"
   ]
  },
  {
   "cell_type": "code",
   "execution_count": 99,
   "id": "73dd8ed7",
   "metadata": {},
   "outputs": [
    {
     "data": {
      "image/png": "[encoded data removed]",
      "text/latex": [
       "$\\displaystyle x^{2} + 2 \\pi x + \\pi^{2}$"
      ],
      "text/plain": [
       " 2            2\n",
       "x  + 2⋅π⋅x + π "
      ]
     },
     "execution_count": 99,
     "metadata": {},
     "output_type": "execute_result"
    }
   ],
   "source": [
    "#The expand function takes a number of keywords arguments which we can tell the functions what kind of expansions to want to perform\n",
    "expand(MyFun)"
   ]
  },
  {
   "cell_type": "code",
   "execution_count": 100,
   "id": "0b879a6d",
   "metadata": {},
   "outputs": [
    {
     "name": "stdout",
     "output_type": "stream",
     "text": [
      "x**2 + 2*pi*x + pi**2\n"
     ]
    }
   ],
   "source": [
    "print(expand(MyFun)) # print in raw python form"
   ]
  },
  {
   "cell_type": "code",
   "execution_count": 98,
   "id": "a7f67736",
   "metadata": {},
   "outputs": [
    {
     "data": {
      "image/png": "[encoded data removed]",
      "text/latex": [
       "$\\displaystyle \\left(x + \\pi\\right)^{2}$"
      ],
      "text/plain": [
       "       2\n",
       "(x + π) "
      ]
     },
     "execution_count": 98,
     "metadata": {},
     "output_type": "execute_result"
    }
   ],
   "source": [
    "factor(x**2 + 2*pi*x + pi**2) # factorise"
   ]
  },
  {
   "cell_type": "markdown",
   "id": "ea5fd1c6",
   "metadata": {},
   "source": [
    "*Apart and together*"
   ]
  },
  {
   "cell_type": "code",
   "execution_count": 101,
   "id": "ba17fec8",
   "metadata": {},
   "outputs": [
    {
     "data": {
      "image/png": "[encoded data removed]",
      "text/latex": [
       "$\\displaystyle \\frac{1}{\\left(a + 1\\right) \\left(a + 2\\right)}$"
      ],
      "text/plain": [
       "       1       \n",
       "───────────────\n",
       "(a + 1)⋅(a + 2)"
      ]
     },
     "execution_count": 101,
     "metadata": {},
     "output_type": "execute_result"
    }
   ],
   "source": [
    "f1 = 1/((a+1)*(a+2)); f1"
   ]
  },
  {
   "cell_type": "code",
   "execution_count": 102,
   "id": "b5305d32",
   "metadata": {},
   "outputs": [
    {
     "data": {
      "image/png": "[encoded data removed]",
      "text/latex": [
       "$\\displaystyle - \\frac{1}{a + 2} + \\frac{1}{a + 1}$"
      ],
      "text/plain": [
       "    1       1  \n",
       "- ───── + ─────\n",
       "  a + 2   a + 1"
      ]
     },
     "execution_count": 102,
     "metadata": {},
     "output_type": "execute_result"
    }
   ],
   "source": [
    "apart(f1)"
   ]
  },
  {
   "cell_type": "code",
   "execution_count": 103,
   "id": "67b803c0",
   "metadata": {},
   "outputs": [
    {
     "data": {
      "image/png": "[encoded data removed]",
      "text/latex": [
       "$\\displaystyle \\frac{1}{a + 3} + \\frac{1}{a + 2}$"
      ],
      "text/plain": [
       "  1       1  \n",
       "───── + ─────\n",
       "a + 3   a + 2"
      ]
     },
     "execution_count": 103,
     "metadata": {},
     "output_type": "execute_result"
    }
   ],
   "source": [
    "f2 = 1/(a+2) + 1/(a+3); f2"
   ]
  },
  {
   "cell_type": "code",
   "execution_count": 104,
   "id": "e13efbf9",
   "metadata": {},
   "outputs": [
    {
     "data": {
      "image/png": "[encoded data removed]",
      "text/latex": [
       "$\\displaystyle \\frac{2 a + 5}{\\left(a + 2\\right) \\left(a + 3\\right)}$"
      ],
      "text/plain": [
       "    2⋅a + 5    \n",
       "───────────────\n",
       "(a + 2)⋅(a + 3)"
      ]
     },
     "execution_count": 104,
     "metadata": {},
     "output_type": "execute_result"
    }
   ],
   "source": [
    "together(f2)"
   ]
  },
  {
   "cell_type": "markdown",
   "id": "65240ea6",
   "metadata": {},
   "source": [
    "The simplify tries to simplify an expression into a nice looking expression"
   ]
  },
  {
   "cell_type": "code",
   "execution_count": 105,
   "id": "fc69d945",
   "metadata": {},
   "outputs": [
    {
     "data": {
      "image/png": "[encoded data removed]",
      "text/latex": [
       "$\\displaystyle \\frac{2 a + 5}{\\left(a + 2\\right) \\left(a + 3\\right)}$"
      ],
      "text/plain": [
       "    2⋅a + 5    \n",
       "───────────────\n",
       "(a + 2)⋅(a + 3)"
      ]
     },
     "execution_count": 105,
     "metadata": {},
     "output_type": "execute_result"
    }
   ],
   "source": [
    "simplify(f2)"
   ]
  },
  {
   "cell_type": "markdown",
   "id": "5af35885",
   "metadata": {},
   "source": [
    "Differentiation: the first argument is the expression to take the derivative of, and the second argument is the symbol by which to take the derivative."
   ]
  },
  {
   "cell_type": "code",
   "execution_count": 106,
   "id": "7d4e183c",
   "metadata": {},
   "outputs": [
    {
     "data": {
      "image/png": "[encoded data removed]",
      "text/latex": [
       "$\\displaystyle 2 a + 4 \\pi$"
      ],
      "text/plain": [
       "2⋅a + 4⋅π"
      ]
     },
     "execution_count": 106,
     "metadata": {},
     "output_type": "execute_result"
    }
   ],
   "source": [
    "diff(MyFun_new, a)"
   ]
  },
  {
   "cell_type": "code",
   "execution_count": 107,
   "id": "37008cb6",
   "metadata": {},
   "outputs": [
    {
     "data": {
      "image/png": "[encoded data removed]",
      "text/latex": [
       "$\\displaystyle 2$"
      ],
      "text/plain": [
       "2"
      ]
     },
     "execution_count": 107,
     "metadata": {},
     "output_type": "execute_result"
    }
   ],
   "source": [
    "diff(MyFun_new, a, a) # higher order derivatives "
   ]
  },
  {
   "cell_type": "code",
   "execution_count": 108,
   "id": "1d0744f1",
   "metadata": {},
   "outputs": [
    {
     "data": {
      "image/png": "[encoded data removed]",
      "text/latex": [
       "$\\displaystyle 12 \\left(a + 2 \\pi\\right)^{2}$"
      ],
      "text/plain": [
       "            2\n",
       "12⋅(a + 2⋅π) "
      ]
     },
     "execution_count": 108,
     "metadata": {},
     "output_type": "execute_result"
    }
   ],
   "source": [
    "diff(MyFun_new**2, a, 2) # same as above"
   ]
  },
  {
   "cell_type": "code",
   "execution_count": 109,
   "id": "72a2d0f0",
   "metadata": {},
   "outputs": [
    {
     "data": {
      "image/png": "[encoded data removed]",
      "text/latex": [
       "$\\displaystyle 12 a^{2} + 48 \\pi a + 48 \\pi^{2}$"
      ],
      "text/plain": [
       "    2                2\n",
       "12⋅a  + 48⋅π⋅a + 48⋅π "
      ]
     },
     "execution_count": 109,
     "metadata": {},
     "output_type": "execute_result"
    }
   ],
   "source": [
    "expand(diff(MyFun_new**2, a, 2)) # apply another manipulation to the result of a previous operation"
   ]
  },
  {
   "cell_type": "markdown",
   "id": "9246bce3",
   "metadata": {},
   "source": [
    "Calculate the derivative of a multivariate expression:"
   ]
  },
  {
   "cell_type": "code",
   "execution_count": 110,
   "id": "62ba7c2a",
   "metadata": {},
   "outputs": [],
   "source": [
    "x, y, z = var(\"x,y,z\")"
   ]
  },
  {
   "cell_type": "code",
   "execution_count": 111,
   "id": "81afd2dd",
   "metadata": {},
   "outputs": [],
   "source": [
    "f = sin(x*y) + cos(y*z)"
   ]
  },
  {
   "cell_type": "code",
   "execution_count": 112,
   "id": "9b700b0a",
   "metadata": {},
   "outputs": [
    {
     "data": {
      "image/png": "[encoded data removed]",
      "text/latex": [
       "$\\displaystyle - x \\left(x y \\cos{\\left(x y \\right)} + 2 \\sin{\\left(x y \\right)}\\right)$"
      ],
      "text/plain": [
       "-x⋅(x⋅y⋅cos(x⋅y) + 2⋅sin(x⋅y))"
      ]
     },
     "execution_count": 112,
     "metadata": {},
     "output_type": "execute_result"
    }
   ],
   "source": [
    "diff(f, x, 1, y, 2)"
   ]
  },
  {
   "cell_type": "markdown",
   "id": "1fe717ee",
   "metadata": {},
   "source": [
    "__Integration__"
   ]
  },
  {
   "cell_type": "code",
   "execution_count": 113,
   "id": "a56c1749",
   "metadata": {},
   "outputs": [
    {
     "data": {
      "image/png": "[encoded data removed]",
      "text/latex": [
       "$\\displaystyle \\left(x + \\pi\\right)^{2}$"
      ],
      "text/plain": [
       "       2\n",
       "(x + π) "
      ]
     },
     "execution_count": 113,
     "metadata": {},
     "output_type": "execute_result"
    }
   ],
   "source": [
    "MyFun"
   ]
  },
  {
   "cell_type": "code",
   "execution_count": 114,
   "id": "45a7933f",
   "metadata": {},
   "outputs": [
    {
     "data": {
      "image/png": "[encoded data removed]",
      "text/latex": [
       "$\\displaystyle x \\left(x + \\pi\\right)^{2}$"
      ],
      "text/plain": [
       "         2\n",
       "x⋅(x + π) "
      ]
     },
     "execution_count": 114,
     "metadata": {},
     "output_type": "execute_result"
    }
   ],
   "source": [
    "integrate(MyFun, x)"
   ]
  },
  {
   "cell_type": "code",
   "execution_count": 115,
   "id": "a12ef1ec",
   "metadata": {},
   "outputs": [
    {
     "data": {
      "image/png": "[encoded data removed]",
      "text/latex": [
       "$\\displaystyle 2 \\left(x + \\pi\\right)^{2}$"
      ],
      "text/plain": [
       "         2\n",
       "2⋅(x + π) "
      ]
     },
     "execution_count": 115,
     "metadata": {},
     "output_type": "execute_result"
    }
   ],
   "source": [
    "# By providing limits for the integration variable we can evaluate definite integrals:\n",
    "integrate(MyFun, (x, -1, 1))"
   ]
  },
  {
   "cell_type": "code",
   "execution_count": 116,
   "id": "ca5b0dfc",
   "metadata": {},
   "outputs": [
    {
     "data": {
      "image/png": "[encoded data removed]",
      "text/latex": [
       "$\\displaystyle \\sqrt{\\pi}$"
      ],
      "text/plain": [
       "√π"
      ]
     },
     "execution_count": 116,
     "metadata": {},
     "output_type": "execute_result"
    }
   ],
   "source": [
    "integrate(exp(-x**2), (x, -oo, oo)) # And also improper integrals. oo is the SymPy notation for inifinity."
   ]
  },
  {
   "cell_type": "markdown",
   "id": "077f6128",
   "metadata": {},
   "source": [
    "__Sums and products__\n",
    "\n",
    "Note that this function is named Sum and not sum to avoid namespace conflict."
   ]
  },
  {
   "cell_type": "code",
   "execution_count": 117,
   "id": "4f8d8b11",
   "metadata": {},
   "outputs": [],
   "source": [
    "n = var(\"n\")"
   ]
  },
  {
   "cell_type": "code",
   "execution_count": 118,
   "id": "8683c6ac",
   "metadata": {},
   "outputs": [
    {
     "data": {
      "image/png": "[encoded data removed]",
      "text/latex": [
       "$\\displaystyle \\sum_{n=1}^{10} \\frac{1}{n^{2}}$"
      ],
      "text/plain": [
       "  10    \n",
       " ____   \n",
       " ╲      \n",
       "  ╲   1 \n",
       "   ╲  ──\n",
       "   ╱   2\n",
       "  ╱   n \n",
       " ╱      \n",
       " ‾‾‾‾   \n",
       "n = 1   "
      ]
     },
     "execution_count": 118,
     "metadata": {},
     "output_type": "execute_result"
    }
   ],
   "source": [
    "Sum(1/n**2, (n, 1, 10))"
   ]
  },
  {
   "cell_type": "code",
   "execution_count": 119,
   "id": "02885481",
   "metadata": {},
   "outputs": [
    {
     "data": {
      "image/png": "[encoded data removed]",
      "text/latex": [
       "$\\displaystyle 1.54976773116654$"
      ],
      "text/plain": [
       "1.54976773116654"
      ]
     },
     "execution_count": 119,
     "metadata": {},
     "output_type": "execute_result"
    }
   ],
   "source": [
    "Sum(1/n**2, (n,1, 10)).evalf()"
   ]
  },
  {
   "cell_type": "code",
   "execution_count": 120,
   "id": "77c0bbf7",
   "metadata": {},
   "outputs": [
    {
     "data": {
      "image/png": "[encoded data removed]",
      "text/latex": [
       "$\\displaystyle 1.64493406684823$"
      ],
      "text/plain": [
       "1.64493406684823"
      ]
     },
     "execution_count": 120,
     "metadata": {},
     "output_type": "execute_result"
    }
   ],
   "source": [
    "Sum(1/n**2, (n, 1, oo)).evalf()"
   ]
  },
  {
   "cell_type": "code",
   "execution_count": 121,
   "id": "2e6c1064",
   "metadata": {},
   "outputs": [
    {
     "data": {
      "image/png": "[encoded data removed]",
      "text/latex": [
       "$\\displaystyle \\prod_{n=1}^{10} n$"
      ],
      "text/plain": [
       "  10   \n",
       "─┬─┬─  \n",
       " │ │  n\n",
       " │ │   \n",
       "n = 1  "
      ]
     },
     "execution_count": 121,
     "metadata": {},
     "output_type": "execute_result"
    }
   ],
   "source": [
    "# Product works much in the same way\n",
    "Product(n, (n, 1, 10)) # 10!"
   ]
  },
  {
   "cell_type": "markdown",
   "id": "6d25878f",
   "metadata": {},
   "source": [
    "__Limits__"
   ]
  },
  {
   "cell_type": "code",
   "execution_count": 123,
   "id": "0d32c531",
   "metadata": {},
   "outputs": [
    {
     "data": {
      "image/png": "[encoded data removed]",
      "text/latex": [
       "$\\displaystyle 1$"
      ],
      "text/plain": [
       "1"
      ]
     },
     "execution_count": 123,
     "metadata": {},
     "output_type": "execute_result"
    }
   ],
   "source": [
    "limit(sin(x)/x, x, 0)"
   ]
  },
  {
   "cell_type": "markdown",
   "id": "2069fda0",
   "metadata": {},
   "source": [
    "We can use ‘limit’ to check the result of derivation using the diff function:"
   ]
  },
  {
   "cell_type": "code",
   "execution_count": 124,
   "id": "a087ea2e",
   "metadata": {},
   "outputs": [
    {
     "data": {
      "image/png": "[encoded data removed]",
      "text/latex": [
       "$\\displaystyle \\sin{\\left(x y \\right)} + \\cos{\\left(y z \\right)}$"
      ],
      "text/plain": [
       "sin(x⋅y) + cos(y⋅z)"
      ]
     },
     "execution_count": 124,
     "metadata": {},
     "output_type": "execute_result"
    }
   ],
   "source": [
    "f "
   ]
  },
  {
   "cell_type": "code",
   "execution_count": 125,
   "id": "22a49065",
   "metadata": {},
   "outputs": [
    {
     "data": {
      "image/png": "[encoded data removed]",
      "text/latex": [
       "$\\displaystyle y \\cos{\\left(x y \\right)}$"
      ],
      "text/plain": [
       "y⋅cos(x⋅y)"
      ]
     },
     "execution_count": 125,
     "metadata": {},
     "output_type": "execute_result"
    }
   ],
   "source": [
    "diff(f, x)"
   ]
  },
  {
   "cell_type": "code",
   "execution_count": 126,
   "id": "80c4c550",
   "metadata": {},
   "outputs": [],
   "source": [
    "h = var(\"h\")"
   ]
  },
  {
   "cell_type": "code",
   "execution_count": 127,
   "id": "3fe44b9a",
   "metadata": {},
   "outputs": [
    {
     "data": {
      "image/png": "[encoded data removed]",
      "text/latex": [
       "$\\displaystyle y \\cos{\\left(x y \\right)}$"
      ],
      "text/plain": [
       "y⋅cos(x⋅y)"
      ]
     },
     "execution_count": 127,
     "metadata": {},
     "output_type": "execute_result"
    }
   ],
   "source": [
    "limit((f.subs(x, x+h) - f)/h, h, 0)"
   ]
  },
  {
   "cell_type": "markdown",
   "id": "d9b458fa",
   "metadata": {},
   "source": [
    "change direction from which we approach the limiting point using the dir keywork argument:"
   ]
  },
  {
   "cell_type": "code",
   "execution_count": 129,
   "id": "06e40215",
   "metadata": {},
   "outputs": [
    {
     "data": {
      "image/png": "[encoded data removed]",
      "text/latex": [
       "$\\displaystyle \\infty$"
      ],
      "text/plain": [
       "∞"
      ]
     },
     "execution_count": 129,
     "metadata": {},
     "output_type": "execute_result"
    }
   ],
   "source": [
    " limit(1/x, x, 0, dir=\"+\") "
   ]
  },
  {
   "cell_type": "code",
   "execution_count": 130,
   "id": "3c85ee9f",
   "metadata": {},
   "outputs": [
    {
     "data": {
      "image/png": "[encoded data removed]",
      "text/latex": [
       "$\\displaystyle -\\infty$"
      ],
      "text/plain": [
       "-∞"
      ]
     },
     "execution_count": 130,
     "metadata": {},
     "output_type": "execute_result"
    }
   ],
   "source": [
    "limit(1/x, x, 0, dir=\"-\")"
   ]
  },
  {
   "cell_type": "markdown",
   "id": "53bc3292",
   "metadata": {},
   "source": [
    "__Series__"
   ]
  },
  {
   "cell_type": "code",
   "execution_count": 132,
   "id": "5aa50b83",
   "metadata": {},
   "outputs": [
    {
     "data": {
      "image/png": "[encoded data removed]",
      "text/latex": [
       "$\\displaystyle 1 + x + \\frac{x^{2}}{2} + \\frac{x^{3}}{6} + \\frac{x^{4}}{24} + \\frac{x^{5}}{120} + O\\left(x^{6}\\right)$"
      ],
      "text/plain": [
       "         2    3    4     5        \n",
       "        x    x    x     x     ⎛ 6⎞\n",
       "1 + x + ── + ── + ── + ─── + O⎝x ⎠\n",
       "        2    6    24   120        "
      ]
     },
     "execution_count": 132,
     "metadata": {},
     "output_type": "execute_result"
    }
   ],
   "source": [
    "series(exp(x), x) # series expansion"
   ]
  },
  {
   "cell_type": "markdown",
   "id": "030f4cc1",
   "metadata": {},
   "source": [
    "By default it expands the expression around x=0, but we can expand around any value of by explicitly include a value in the function call:"
   ]
  },
  {
   "cell_type": "code",
   "execution_count": 133,
   "id": "9d9c402e",
   "metadata": {},
   "outputs": [
    {
     "data": {
      "image/png": "[encoded data removed]",
      "text/latex": [
       "$\\displaystyle e + e \\left(x - 1\\right) + \\frac{e \\left(x - 1\\right)^{2}}{2} + \\frac{e \\left(x - 1\\right)^{3}}{6} + \\frac{e \\left(x - 1\\right)^{4}}{24} + \\frac{e \\left(x - 1\\right)^{5}}{120} + O\\left(\\left(x - 1\\right)^{6}; x\\rightarrow 1\\right)$"
      ],
      "text/plain": [
       "                         2            3            4            5             \n",
       "                ℯ⋅(x - 1)    ℯ⋅(x - 1)    ℯ⋅(x - 1)    ℯ⋅(x - 1)     ⎛       6\n",
       "ℯ + ℯ⋅(x - 1) + ────────── + ────────── + ────────── + ────────── + O⎝(x - 1) \n",
       "                    2            6            24          120                 \n",
       "\n",
       "        \n",
       "       ⎞\n",
       "; x → 1⎠\n",
       "        "
      ]
     },
     "execution_count": 133,
     "metadata": {},
     "output_type": "execute_result"
    }
   ],
   "source": [
    "series(exp(x), x, 1)"
   ]
  },
  {
   "cell_type": "code",
   "execution_count": 138,
   "id": "df7da2c6",
   "metadata": {},
   "outputs": [
    {
     "data": {
      "image/png": "[encoded data removed]",
      "text/latex": [
       "$\\displaystyle \\log{\\left(x \\right)}$"
      ],
      "text/plain": [
       "log(x)"
      ]
     },
     "execution_count": 138,
     "metadata": {},
     "output_type": "execute_result"
    }
   ],
   "source": [
    "# or ..\n",
    "series(log(x), x, 0) # will not work why?"
   ]
  },
  {
   "cell_type": "code",
   "execution_count": 135,
   "id": "524d8282",
   "metadata": {},
   "outputs": [
    {
     "data": {
      "image/png": "[encoded data removed]",
      "text/latex": [
       "$\\displaystyle -1 - \\frac{\\left(x - 1\\right)^{2}}{2} + \\frac{\\left(x - 1\\right)^{3}}{3} - \\frac{\\left(x - 1\\right)^{4}}{4} + \\frac{\\left(x - 1\\right)^{5}}{5} + x + O\\left(\\left(x - 1\\right)^{6}; x\\rightarrow 1\\right)$"
      ],
      "text/plain": [
       "            2          3          4          5                         \n",
       "     (x - 1)    (x - 1)    (x - 1)    (x - 1)         ⎛       6       ⎞\n",
       "-1 - ──────── + ──────── - ──────── + ──────── + x + O⎝(x - 1) ; x → 1⎠\n",
       "        2          3          4          5                             "
      ]
     },
     "execution_count": 135,
     "metadata": {},
     "output_type": "execute_result"
    }
   ],
   "source": [
    "series(log(x), x,1) # this will work, however "
   ]
  },
  {
   "cell_type": "code",
   "execution_count": 139,
   "id": "b06e6ee7",
   "metadata": {},
   "outputs": [
    {
     "data": {
      "image/png": "[encoded data removed]",
      "text/latex": [
       "$\\displaystyle 1 + x + \\frac{x^{2}}{2} + O\\left(x^{3}\\right)$"
      ],
      "text/plain": [
       "         2        \n",
       "        x     ⎛ 3⎞\n",
       "1 + x + ── + O⎝x ⎠\n",
       "        2         "
      ]
     },
     "execution_count": 139,
     "metadata": {},
     "output_type": "execute_result"
    }
   ],
   "source": [
    "# explicitly define to which order the series expansion should be carried out:\n",
    "series(exp(x), x, 0, 3)"
   ]
  },
  {
   "cell_type": "code",
   "execution_count": 141,
   "id": "64529911",
   "metadata": {},
   "outputs": [
    {
     "data": {
      "image/png": "[encoded data removed]",
      "text/latex": [
       "$\\displaystyle 1 + x + \\frac{x^{2}}{2} + O\\left(x^{3}\\right)$"
      ],
      "text/plain": [
       "         2        \n",
       "        x     ⎛ 3⎞\n",
       "1 + x + ── + O⎝x ⎠\n",
       "        2         "
      ]
     },
     "execution_count": 141,
     "metadata": {},
     "output_type": "execute_result"
    }
   ],
   "source": [
    "exp(x).series(x,0,3) # another way to do the above"
   ]
  },
  {
   "cell_type": "markdown",
   "id": "b11cfde7",
   "metadata": {},
   "source": [
    "The series expansion includes the order of the approximation, which is very useful for keeping track of the order of validity when we do calculations with series expansions of different orders:"
   ]
  },
  {
   "cell_type": "code",
   "execution_count": 142,
   "id": "6bdda6df",
   "metadata": {},
   "outputs": [
    {
     "data": {
      "image/png": "[encoded data removed]",
      "text/latex": [
       "$\\displaystyle 1 - \\frac{x^{2}}{2} + \\frac{x^{4}}{24} + O\\left(x^{5}\\right)$"
      ],
      "text/plain": [
       "     2    4        \n",
       "    x    x     ⎛ 5⎞\n",
       "1 - ── + ── + O⎝x ⎠\n",
       "    2    24        "
      ]
     },
     "execution_count": 142,
     "metadata": {},
     "output_type": "execute_result"
    }
   ],
   "source": [
    "s1 = cos(x).series(x, 0, 5); s1"
   ]
  },
  {
   "cell_type": "code",
   "execution_count": 143,
   "id": "37a0aa63",
   "metadata": {},
   "outputs": [
    {
     "data": {
      "image/png": "[encoded data removed]",
      "text/latex": [
       "$\\displaystyle x + O\\left(x^{2}\\right)$"
      ],
      "text/plain": [
       "     ⎛ 2⎞\n",
       "x + O⎝x ⎠"
      ]
     },
     "execution_count": 143,
     "metadata": {},
     "output_type": "execute_result"
    }
   ],
   "source": [
    "s2 = sin(x).series(x, 0, 2); s2"
   ]
  },
  {
   "cell_type": "code",
   "execution_count": 144,
   "id": "5f0f52d4",
   "metadata": {},
   "outputs": [
    {
     "data": {
      "image/png": "[encoded data removed]",
      "text/latex": [
       "$\\displaystyle x + O\\left(x^{2}\\right)$"
      ],
      "text/plain": [
       "     ⎛ 2⎞\n",
       "x + O⎝x ⎠"
      ]
     },
     "execution_count": 144,
     "metadata": {},
     "output_type": "execute_result"
    }
   ],
   "source": [
    "expand(s1 * s2)"
   ]
  },
  {
   "cell_type": "code",
   "execution_count": 147,
   "id": "9666a6a9",
   "metadata": {},
   "outputs": [
    {
     "data": {
      "image/png": "[encoded data removed]",
      "text/latex": [
       "$\\displaystyle \\frac{x^{5}}{24} - \\frac{x^{3}}{2} + x$"
      ],
      "text/plain": [
       " 5    3    \n",
       "x    x     \n",
       "── - ── + x\n",
       "24   2     "
      ]
     },
     "execution_count": 147,
     "metadata": {},
     "output_type": "execute_result"
    }
   ],
   "source": [
    "expand(s1.removeO() * s2.removeO()) # use remove0 method to get rid of the order info"
   ]
  },
  {
   "cell_type": "markdown",
   "id": "95326941",
   "metadata": {},
   "source": [
    "__Matrix algebra__"
   ]
  },
  {
   "cell_type": "code",
   "execution_count": 150,
   "id": "de8c6e6f",
   "metadata": {},
   "outputs": [],
   "source": [
    "m11, m12, m21, m22 = var(\"m11, m12, m21, m22\")\n",
    "b1, b2 = var(\"b1, b2\")"
   ]
  },
  {
   "cell_type": "code",
   "execution_count": 151,
   "id": "018b7181",
   "metadata": {},
   "outputs": [
    {
     "data": {
      "image/png": "[encoded data removed]",
      "text/latex": [
       "$\\displaystyle \\left[\\begin{matrix}m_{11} & m_{12}\\\\m_{21} & m_{22}\\end{matrix}\\right]$"
      ],
      "text/plain": [
       "⎡m₁₁  m₁₂⎤\n",
       "⎢        ⎥\n",
       "⎣m₂₁  m₂₂⎦"
      ]
     },
     "execution_count": 151,
     "metadata": {},
     "output_type": "execute_result"
    }
   ],
   "source": [
    "A = Matrix([[m11, m12],[m21, m22]]) # Again, note: capital M for to avoid namespace conflict\n",
    "A"
   ]
  },
  {
   "cell_type": "code",
   "execution_count": 152,
   "id": "f0e1bd55",
   "metadata": {},
   "outputs": [
    {
     "data": {
      "image/png": "[encoded data removed]",
      "text/latex": [
       "$\\displaystyle \\left[\\begin{matrix}b_{1}\\\\b_{2}\\end{matrix}\\right]$"
      ],
      "text/plain": [
       "⎡b₁⎤\n",
       "⎢  ⎥\n",
       "⎣b₂⎦"
      ]
     },
     "execution_count": 152,
     "metadata": {},
     "output_type": "execute_result"
    }
   ],
   "source": [
    "b = Matrix([[b1], [b2]]); b"
   ]
  },
  {
   "cell_type": "code",
   "execution_count": 154,
   "id": "42f01618",
   "metadata": {},
   "outputs": [
    {
     "data": {
      "image/png": "[encoded data removed]",
      "text/latex": [
       "$\\displaystyle \\left[\\begin{matrix}m_{11}^{2} + m_{12} m_{21} & m_{11} m_{12} + m_{12} m_{22}\\\\m_{11} m_{21} + m_{21} m_{22} & m_{12} m_{21} + m_{22}^{2}\\end{matrix}\\right]$"
      ],
      "text/plain": [
       "⎡    2                               ⎤\n",
       "⎢ m₁₁  + m₁₂⋅m₂₁    m₁₁⋅m₁₂ + m₁₂⋅m₂₂⎥\n",
       "⎢                                    ⎥\n",
       "⎢                                 2  ⎥\n",
       "⎣m₁₁⋅m₂₁ + m₂₁⋅m₂₂   m₁₂⋅m₂₁ + m₂₂   ⎦"
      ]
     },
     "execution_count": 154,
     "metadata": {},
     "output_type": "execute_result"
    }
   ],
   "source": [
    "# matrix algebra operations:\n",
    "A**2"
   ]
  },
  {
   "cell_type": "code",
   "execution_count": 155,
   "id": "31fe113b",
   "metadata": {},
   "outputs": [
    {
     "data": {
      "image/png": "[encoded data removed]",
      "text/latex": [
       "$\\displaystyle \\left[\\begin{matrix}b_{1} m_{11} + b_{2} m_{12}\\\\b_{1} m_{21} + b_{2} m_{22}\\end{matrix}\\right]$"
      ],
      "text/plain": [
       "⎡b₁⋅m₁₁ + b₂⋅m₁₂⎤\n",
       "⎢               ⎥\n",
       "⎣b₁⋅m₂₁ + b₂⋅m₂₂⎦"
      ]
     },
     "execution_count": 155,
     "metadata": {},
     "output_type": "execute_result"
    }
   ],
   "source": [
    "A * b"
   ]
  },
  {
   "cell_type": "code",
   "execution_count": 156,
   "id": "5adbc1ab",
   "metadata": {},
   "outputs": [
    {
     "data": {
      "image/png": "[encoded data removed]",
      "text/latex": [
       "$\\displaystyle m_{11} m_{22} - m_{12} m_{21}$"
      ],
      "text/plain": [
       "m₁₁⋅m₂₂ - m₁₂⋅m₂₁"
      ]
     },
     "execution_count": 156,
     "metadata": {},
     "output_type": "execute_result"
    }
   ],
   "source": [
    "A.det() # calculate determinants"
   ]
  },
  {
   "cell_type": "code",
   "execution_count": 157,
   "id": "9239ac0a",
   "metadata": {},
   "outputs": [
    {
     "data": {
      "image/png": "[encoded data removed]",
      "text/latex": [
       "$\\displaystyle \\left[\\begin{matrix}\\frac{m_{22}}{m_{11} m_{22} - m_{12} m_{21}} & - \\frac{m_{12}}{m_{11} m_{22} - m_{12} m_{21}}\\\\- \\frac{m_{21}}{m_{11} m_{22} - m_{12} m_{21}} & \\frac{m_{11}}{m_{11} m_{22} - m_{12} m_{21}}\\end{matrix}\\right]$"
      ],
      "text/plain": [
       "⎡       m₂₂               -m₁₂       ⎤\n",
       "⎢─────────────────  ─────────────────⎥\n",
       "⎢m₁₁⋅m₂₂ - m₁₂⋅m₂₁  m₁₁⋅m₂₂ - m₁₂⋅m₂₁⎥\n",
       "⎢                                    ⎥\n",
       "⎢      -m₂₁                m₁₁       ⎥\n",
       "⎢─────────────────  ─────────────────⎥\n",
       "⎣m₁₁⋅m₂₂ - m₁₂⋅m₂₁  m₁₁⋅m₂₂ - m₁₂⋅m₂₁⎦"
      ]
     },
     "execution_count": 157,
     "metadata": {},
     "output_type": "execute_result"
    }
   ],
   "source": [
    "A.inv() # calculate the inverses "
   ]
  },
  {
   "cell_type": "markdown",
   "id": "7dbb2b4f",
   "metadata": {},
   "source": [
    "__Solving equations__"
   ]
  },
  {
   "cell_type": "code",
   "execution_count": 158,
   "id": "d9e02b1e",
   "metadata": {},
   "outputs": [
    {
     "data": {
      "image/png": "[encoded data removed]",
      "text/latex": [
       "$\\displaystyle \\left[ -1, \\  1\\right]$"
      ],
      "text/plain": [
       "[-1, 1]"
      ]
     },
     "execution_count": 158,
     "metadata": {},
     "output_type": "execute_result"
    }
   ],
   "source": [
    "solve(x**2 - 1, x)"
   ]
  },
  {
   "cell_type": "code",
   "execution_count": 159,
   "id": "08f4468a",
   "metadata": {},
   "outputs": [
    {
     "data": {
      "image/png": "[encoded data removed]",
      "text/latex": [
       "$\\displaystyle \\left[ - i \\sqrt{- \\frac{1}{2} + \\frac{\\sqrt{5}}{2}}, \\  i \\sqrt{- \\frac{1}{2} + \\frac{\\sqrt{5}}{2}}, \\  - \\sqrt{\\frac{1}{2} + \\frac{\\sqrt{5}}{2}}, \\  \\sqrt{\\frac{1}{2} + \\frac{\\sqrt{5}}{2}}\\right]$"
      ],
      "text/plain": [
       "⎡       __________        __________       ________      ________⎤\n",
       "⎢      ╱   1   √5        ╱   1   √5       ╱ 1   √5      ╱ 1   √5 ⎥\n",
       "⎢-ⅈ⋅  ╱  - ─ + ── , ⅈ⋅  ╱  - ─ + ── , -  ╱  ─ + ── ,   ╱  ─ + ── ⎥\n",
       "⎣   ╲╱     2   2      ╲╱     2   2     ╲╱   2   2    ╲╱   2   2  ⎦"
      ]
     },
     "execution_count": 159,
     "metadata": {},
     "output_type": "execute_result"
    }
   ],
   "source": [
    "solve(x**4 - x**2 - 1, x)"
   ]
  },
  {
   "cell_type": "code",
   "execution_count": 160,
   "id": "7d60e9fb",
   "metadata": {},
   "outputs": [
    {
     "data": {
      "image/png": "[encoded data removed]",
      "text/latex": [
       "$\\displaystyle \\left\\{ x : 1, \\  y : 0\\right\\}$"
      ],
      "text/plain": [
       "{x: 1, y: 0}"
      ]
     },
     "execution_count": 160,
     "metadata": {},
     "output_type": "execute_result"
    }
   ],
   "source": [
    "solve([x + y - 1, x - y - 1], [x,y]) # system of equations"
   ]
  },
  {
   "cell_type": "code",
   "execution_count": 161,
   "id": "abb68f8b",
   "metadata": {},
   "outputs": [
    {
     "data": {
      "image/png": "[encoded data removed]",
      "text/latex": [
       "$\\displaystyle \\left\\{ x : \\frac{a}{2} + \\frac{c}{2}, \\  y : \\frac{a}{2} - \\frac{c}{2}\\right\\}$"
      ],
      "text/plain": [
       "⎧   a   c     a   c⎫\n",
       "⎨x: ─ + ─, y: ─ - ─⎬\n",
       "⎩   2   2     2   2⎭"
      ]
     },
     "execution_count": 161,
     "metadata": {},
     "output_type": "execute_result"
    }
   ],
   "source": [
    "solve([x + y - a, x - y - c], [x,y]) # In terms of other symbolic expressions"
   ]
  },
  {
   "cell_type": "markdown",
   "id": "50d56bc2",
   "metadata": {},
   "source": [
    " __Some biological examples__"
   ]
  },
  {
   "cell_type": "markdown",
   "id": "7781792f",
   "metadata": {},
   "source": [
    "One population: Exponential growth:"
   ]
  },
  {
   "cell_type": "code",
   "execution_count": 163,
   "id": "e1055a09",
   "metadata": {},
   "outputs": [],
   "source": [
    "# Assaign variables\n",
    "r_max, N_0, K, t_lag, t  = var(\"r_max N_0 K t_lag t\",real = True) # the real bit is not really necessary here\n",
    "\n",
    "N_0 + (K - N_0) * exp(-exp(r_max * exp(1) * (t_lag - t)/((K - N_0) * log(10)) + 1))\n",
    "\n",
    "r_m, N, t = var(\"r_m N t\",real = True) # the real bit is not really necessary here"
   ]
  },
  {
   "cell_type": "code",
   "execution_count": 164,
   "id": "4509cd60",
   "metadata": {},
   "outputs": [],
   "source": [
    "N = Function('N') # tells SymPy that N is a function"
   ]
  },
  {
   "cell_type": "code",
   "execution_count": 165,
   "id": "018f64da",
   "metadata": {},
   "outputs": [
    {
     "data": {
      "image/png": "[encoded data removed]",
      "text/latex": [
       "$\\displaystyle - r_{m} N{\\left(t \\right)} + \\frac{d}{d t} N{\\left(t \\right)}$"
      ],
      "text/plain": [
       "           d       \n",
       "-rₘ⋅N(t) + ──(N(t))\n",
       "           dt      "
      ]
     },
     "execution_count": 165,
     "metadata": {},
     "output_type": "execute_result"
    }
   ],
   "source": [
    "dN_dt = Derivative(N(t), t) - r_m*N(t); dN_dt # Define N as a derivative of t"
   ]
  },
  {
   "cell_type": "code",
   "execution_count": 166,
   "id": "f2ea9d59",
   "metadata": {},
   "outputs": [
    {
     "data": {
      "image/png": "[encoded data removed]",
      "text/latex": [
       "$\\displaystyle N{\\left(t \\right)} = C_{1} e^{r_{m} t}$"
      ],
      "text/plain": [
       "           rₘ⋅t\n",
       "N(t) = C₁⋅ℯ    "
      ]
     },
     "execution_count": 166,
     "metadata": {},
     "output_type": "execute_result"
    }
   ],
   "source": [
    "MyEq_sol = dsolve(dN_dt); MyEq_sol # Solve differnetial equation "
   ]
  },
  {
   "cell_type": "code",
   "execution_count": 167,
   "id": "85542817",
   "metadata": {},
   "outputs": [
    {
     "name": "stderr",
     "output_type": "stream",
     "text": [
      "/tmp/ipykernel_10258/2988519378.py:10: DeprecationWarning: scipy.arange is deprecated and will be removed in SciPy 2.0.0, use numpy.arange instead\n",
      "  t_vec = sc.arange(0, 10., 0.01)\n",
      "/tmp/ipykernel_10258/2988519378.py:23: DeprecationWarning: scipy.exp is deprecated and will be removed in SciPy 2.0.0, use numpy.exp instead\n",
      "  p.plot(t_vec, N_0 * sc.exp(r_m * t_vec),'k--')\n"
     ]
    },
    {
     "data": {
      "text/plain": [
       "<matplotlib.legend.Legend at 0x7f12c1017370>"
      ]
     },
     "execution_count": 167,
     "metadata": {},
     "output_type": "execute_result"
    },
    {
     "data": {
      "image/png": "[encoded data removed]",
      "text/plain": [
       "<Figure size 432x288 with 1 Axes>"
      ]
     },
     "metadata": {
      "needs_background": "light"
     },
     "output_type": "display_data"
    }
   ],
   "source": [
    "# Plot the model\n",
    "\n",
    "from scipy  import integrate\n",
    "\n",
    "# parameters\n",
    "r_m = 1.\n",
    "\n",
    "# initial conditions\n",
    "N_0 = 0.1\n",
    "\n",
    "# The time vector\n",
    "t_vec = sc.arange(0, 10., 0.01)\n",
    "\n",
    "def exp_pop(N, t, r_m):\n",
    "    \"\"\"The right-hand side of the exponential growth ODE\"\"\"\n",
    "    return r_m*N\n",
    "\n",
    "N_vec = integrate.odeint(exp_pop, N_0, t_vec, args=(r_m,)) # the comma is needed!\n",
    "\n",
    "# plot the numerical solution\n",
    "p.plot(t_vec, N_vec)\n",
    "p.xlabel('Time') ; p.ylabel('$N$') \n",
    "\n",
    "# plot analytical solution\n",
    "p.plot(t_vec, N_0 * sc.exp(r_m * t_vec),'k--')\n",
    "p.legend(['numerical approximation', 'analytical solution'], loc='best') # draw legend"
   ]
  },
  {
   "cell_type": "code",
   "execution_count": 168,
   "id": "0b116935",
   "metadata": {},
   "outputs": [
    {
     "name": "stderr",
     "output_type": "stream",
     "text": [
      "/tmp/ipykernel_10258/3181542708.py:1: DeprecationWarning: scipy.exp is deprecated and will be removed in SciPy 2.0.0, use numpy.exp instead\n",
      "  N_vec - N_0 * sc.exp(r_m * t_vec) # more detailed info\n"
     ]
    },
    {
     "data": {
      "text/plain": [
       "array([[ 0.00000000e+00, -1.00501671e-03, -2.02013400e-03, ...,\n",
       "        -2.13744854e+03, -2.15893125e+03, -2.18062988e+03],\n",
       "       [ 1.00502283e-03,  6.11819401e-09, -1.01511118e-03, ...,\n",
       "        -2.13744753e+03, -2.15893025e+03, -2.18062887e+03],\n",
       "       [ 2.02014197e-03,  1.01512526e-03,  7.96376975e-09, ...,\n",
       "        -2.13744651e+03, -2.15892923e+03, -2.18062786e+03],\n",
       "       ...,\n",
       "       [ 2.13744963e+03,  2.13744863e+03,  2.13744761e+03, ...,\n",
       "         1.09563845e-03, -2.14816243e+01, -4.31802491e+01],\n",
       "       [ 2.15893236e+03,  2.15893136e+03,  2.15893034e+03, ...,\n",
       "         2.14838268e+01,  1.10688877e-03, -2.16975180e+01],\n",
       "       [ 2.18063100e+03,  2.18062999e+03,  2.18062898e+03, ...,\n",
       "         4.31824631e+01,  2.16997432e+01,  1.11834951e-03]])"
      ]
     },
     "execution_count": 168,
     "metadata": {},
     "output_type": "execute_result"
    }
   ],
   "source": [
    "N_vec - N_0 * sc.exp(r_m * t_vec) # more detailed info"
   ]
  },
  {
   "cell_type": "markdown",
   "id": "df89a9b0",
   "metadata": {},
   "source": [
    "One population: Logistic Population growth:"
   ]
  },
  {
   "cell_type": "code",
   "execution_count": 170,
   "id": "1b0ced93",
   "metadata": {},
   "outputs": [],
   "source": [
    "# Define the variables and the function\n",
    "r_m, K, N, t = var(\"r_m K N t\",real = True) # the real bit is not really necessary here\n",
    "\n",
    "N = Function('N')"
   ]
  },
  {
   "cell_type": "code",
   "execution_count": 171,
   "id": "c4327717",
   "metadata": {},
   "outputs": [
    {
     "data": {
      "image/png": "[encoded data removed]",
      "text/latex": [
       "$\\displaystyle - r_{m} \\left(1 - \\frac{N{\\left(t \\right)}}{K}\\right) N{\\left(t \\right)} + \\frac{d}{d t} N{\\left(t \\right)}$"
      ],
      "text/plain": [
       "     ⎛    N(t)⎞        d       \n",
       "- rₘ⋅⎜1 - ────⎟⋅N(t) + ──(N(t))\n",
       "     ⎝     K  ⎠        dt      "
      ]
     },
     "execution_count": 171,
     "metadata": {},
     "output_type": "execute_result"
    }
   ],
   "source": [
    "dN_dt = Derivative(N(t), t) - r_m * N(t) * (1 - N(t) / K); dN_dt"
   ]
  },
  {
   "cell_type": "code",
   "execution_count": 172,
   "id": "90ca8ac6",
   "metadata": {},
   "outputs": [
    {
     "data": {
      "image/png": "[encoded data removed]",
      "text/latex": [
       "$\\displaystyle N{\\left(t \\right)} = \\frac{K e^{C_{1} K + r_{m} t}}{e^{C_{1} K + r_{m} t} - 1}$"
      ],
      "text/plain": [
       "           C₁⋅K + rₘ⋅t \n",
       "        K⋅ℯ            \n",
       "N(t) = ────────────────\n",
       "        C₁⋅K + rₘ⋅t    \n",
       "       ℯ            - 1"
      ]
     },
     "execution_count": 172,
     "metadata": {},
     "output_type": "execute_result"
    }
   ],
   "source": [
    "MyEq_sol = dsolve(dN_dt); MyEq_sol"
   ]
  },
  {
   "cell_type": "code",
   "execution_count": 173,
   "id": "bd17ec22",
   "metadata": {},
   "outputs": [
    {
     "name": "stderr",
     "output_type": "stream",
     "text": [
      "/tmp/ipykernel_10258/2063636648.py:10: DeprecationWarning: scipy.arange is deprecated and will be removed in SciPy 2.0.0, use numpy.arange instead\n",
      "  t_vec = sc.arange(0, 10., 0.01)\n",
      "/tmp/ipykernel_10258/2063636648.py:22: DeprecationWarning: scipy.exp is deprecated and will be removed in SciPy 2.0.0, use numpy.exp instead\n",
      "  p.plot(t_vec, K * N_0 * sc.exp(r_m * t_vec)/(K + N_0 * (sc.exp(r_m * t_vec) - 1.)),'k--')\n"
     ]
    },
    {
     "data": {
      "text/plain": [
       "<matplotlib.legend.Legend at 0x7f12b6700280>"
      ]
     },
     "execution_count": 173,
     "metadata": {},
     "output_type": "execute_result"
    },
    {
     "data": {
      "image/png": "[encoded data removed]",
      "text/plain": [
       "<Figure size 432x288 with 1 Axes>"
      ]
     },
     "metadata": {
      "needs_background": "light"
     },
     "output_type": "display_data"
    }
   ],
   "source": [
    "# plot\n",
    "from scipy  import integrate\n",
    "\n",
    "# parameters\n",
    "r_m = 1.\n",
    "K = 10.\n",
    "# initial condition\n",
    "N_0 = 0.1\n",
    "\n",
    "#The time vector \n",
    "t_vec = sc.arange(0, 10., 0.01)\n",
    "\n",
    "def log_pop(N, t, r_m, K):\n",
    "    \"\"\"The right-hand side of the logistic ODE\"\"\"\n",
    "    return r_m*N*(1-N/K)\n",
    "\n",
    "N_vec = integrate.odeint(log_pop, N_0, t_vec, args=(r_m, K));\n",
    "\n",
    "p.plot(t_vec, N_vec) # plot the solution\n",
    "p.xlabel('Time') ; p.ylabel('$N$') \n",
    "\n",
    "# plot analytical solution\n",
    "p.plot(t_vec, K * N_0 * sc.exp(r_m * t_vec)/(K + N_0 * (sc.exp(r_m * t_vec) - 1.)),'k--')\n",
    "p.legend(['numerical approximation', 'analytical solution'], loc='best') # draw legend"
   ]
  },
  {
   "cell_type": "markdown",
   "id": "78da537f",
   "metadata": {},
   "source": [
    "Two interacting populations- The Lotka-Volterra predator-prey model:"
   ]
  },
  {
   "cell_type": "code",
   "execution_count": 178,
   "id": "a82c2475",
   "metadata": {},
   "outputs": [],
   "source": [
    "# define vars\n",
    "r_m, a, e, z, K, N, C, t = var(\"r_m, a, e, z, K, N, C, t\",real = True)"
   ]
  },
  {
   "cell_type": "code",
   "execution_count": 177,
   "id": "e9d19433",
   "metadata": {},
   "outputs": [
    {
     "data": {
      "image/png": "[encoded data removed]",
      "text/latex": [
       "$\\displaystyle \\left( C N a e - C z, \\  - C N a + N r_{m} \\left(1 - \\frac{N}{K}\\right)\\right)$"
      ],
      "text/plain": [
       "⎛                             ⎛    N⎞⎞\n",
       "⎜C⋅N⋅a⋅e - C⋅z, -C⋅N⋅a + N⋅rₘ⋅⎜1 - ─⎟⎟\n",
       "⎝                             ⎝    K⎠⎠"
      ]
     },
     "execution_count": 177,
     "metadata": {},
     "output_type": "execute_result"
    }
   ],
   "source": [
    "# define the sysyem of ODEs for Sympy:\n",
    "dN_dt = r_m * N *(1-N/K) - a * N * C\n",
    "dC_dt = e * a * N * C - z * C\n",
    "\n",
    "dC_dt, dN_dt"
   ]
  },
  {
   "cell_type": "code",
   "execution_count": 183,
   "id": "d188787f",
   "metadata": {},
   "outputs": [
    {
     "data": {
      "image/png": "[encoded data removed]",
      "text/latex": [
       "$\\displaystyle \\left( - C N a + N r_{m} \\left(1 - \\frac{N}{K}\\right) = 0, \\  C N a e - C z = 0\\right)$"
      ],
      "text/plain": [
       "⎛              ⎛    N⎞                       ⎞\n",
       "⎜-C⋅N⋅a + N⋅rₘ⋅⎜1 - ─⎟ = 0, C⋅N⋅a⋅e - C⋅z = 0⎟\n",
       "⎝              ⎝    K⎠                       ⎠"
      ]
     },
     "execution_count": 183,
     "metadata": {},
     "output_type": "execute_result"
    }
   ],
   "source": [
    "# Now define the equilibrium state:\n",
    "N_eqlb = Eq(dN_dt, 0)\n",
    "C_eqlb = Eq(dC_dt, 0)\n",
    "N_eqlb, C_eqlb"
   ]
  },
  {
   "cell_type": "code",
   "execution_count": 184,
   "id": "a9d2cabf",
   "metadata": {},
   "outputs": [
    {
     "data": {
      "image/png": "[encoded data removed]",
      "text/latex": [
       "$\\displaystyle \\left( \\left[ \\frac{r_{m} \\left(K - N\\right)}{K a}\\right], \\  \\left[ \\frac{z}{a e}\\right]\\right)$"
      ],
      "text/plain": [
       "⎛⎡rₘ⋅(K - N)⎤  ⎡ z ⎤⎞\n",
       "⎜⎢──────────⎥, ⎢───⎥⎟\n",
       "⎝⎣   K⋅a    ⎦  ⎣a⋅e⎦⎠"
      ]
     },
     "execution_count": 184,
     "metadata": {},
     "output_type": "execute_result"
    }
   ],
   "source": [
    "# solve\n",
    "N_eqlb_sol = solve(N_eqlb, C)\n",
    "C_eqlb_sol = solve(C_eqlb, N)\n",
    "\n",
    "N_eqlb_sol, C_eqlb_sol\n"
   ]
  },
  {
   "cell_type": "code",
   "execution_count": 185,
   "id": "680196fa",
   "metadata": {},
   "outputs": [
    {
     "name": "stderr",
     "output_type": "stream",
     "text": [
      "/tmp/ipykernel_10258/2303913698.py:3: DeprecationWarning: scipy.arange is deprecated and will be removed in SciPy 2.0.0, use numpy.arange instead\n",
      "  t_vec = sc.arange(0, 100., 0.01)\n",
      "/tmp/ipykernel_10258/2303913698.py:13: DeprecationWarning: scipy.array is deprecated and will be removed in SciPy 2.0.0, use numpy.array instead\n",
      "  N0C0 = sc.array([1., 1.])\n",
      "/tmp/ipykernel_10258/2303913698.py:19: DeprecationWarning: scipy.array is deprecated and will be removed in SciPy 2.0.0, use numpy.array instead\n",
      "  return sc.array([ r_m * NC[0]*(1-NC[0]/K) - a * NC[0] * NC[1],\n"
     ]
    }
   ],
   "source": [
    "# numerical integration (similar to LV.py)\n",
    "from scipy import integrate\n",
    "\n",
    "t_vec = sc.arange(0, 100., 0.01)\n",
    "\n",
    "# parameters\n",
    "r_m = 1.\n",
    "a = 1\n",
    "e = 0.5\n",
    "z = .5\n",
    "K =10\n",
    "\n",
    "# initial condition: this is an array now!\n",
    "N0C0 = sc.array([1., 1.])\n",
    "\n",
    "# the function still receives only `x`, but it will be an array, not a number\n",
    "def LV(NC, t, r_m, K, a, e, z):\n",
    "    # Unlike the esponental and logistic growth model, we now need to convert \n",
    "    # the output to a numpy array as it has two populations.\n",
    "    return sc.array([ r_m * NC[0]*(1-NC[0]/K) - a * NC[0] * NC[1],\n",
    "                   e * a * NC[0] * NC[1] - z * NC[1] ])\n",
    "\n",
    "NC_vec = integrate.odeint(LV, N0C0, t_vec, (r_m, K, a, e, z))"
   ]
  },
  {
   "cell_type": "code",
   "execution_count": 186,
   "id": "59a3131a",
   "metadata": {},
   "outputs": [
    {
     "name": "stdout",
     "output_type": "stream",
     "text": [
      "(10000, 2)\n"
     ]
    }
   ],
   "source": [
    "print(NC_vec.shape)"
   ]
  },
  {
   "cell_type": "code",
   "execution_count": 187,
   "id": "eb5276e5",
   "metadata": {},
   "outputs": [
    {
     "name": "stdout",
     "output_type": "stream",
     "text": [
      "['tableau-colorblind10', 'seaborn-muted', 'seaborn-white', 'seaborn-pastel', 'seaborn-talk', 'seaborn-whitegrid', 'Solarize_Light2', '_classic_test', 'fivethirtyeight', 'dark_background', 'grayscale', 'seaborn-colorblind', 'seaborn-bright', 'seaborn-dark-palette', 'ggplot', 'classic', 'seaborn-deep', 'seaborn-dark', 'seaborn-notebook', 'fast', 'seaborn-paper', 'seaborn-ticks', 'bmh', 'seaborn', 'seaborn-darkgrid', 'seaborn-poster']\n"
     ]
    }
   ],
   "source": [
    "print(p.style.available)"
   ]
  },
  {
   "cell_type": "code",
   "execution_count": 188,
   "id": "02259bf0",
   "metadata": {},
   "outputs": [],
   "source": [
    "p.style.use('seaborn-darkgrid')"
   ]
  },
  {
   "cell_type": "code",
   "execution_count": 189,
   "id": "d88ea600",
   "metadata": {},
   "outputs": [
    {
     "data": {
      "text/plain": [
       "<matplotlib.legend.Legend at 0x7f12b673c8e0>"
      ]
     },
     "execution_count": 189,
     "metadata": {},
     "output_type": "execute_result"
    },
    {
     "data": {
      "image/png": "[encoded data removed]",
      "text/plain": [
       "<Figure size 432x288 with 1 Axes>"
      ]
     },
     "metadata": {},
     "output_type": "display_data"
    }
   ],
   "source": [
    "# plot\n",
    "p.plot(t_vec, NC_vec)\n",
    "p.xlabel('Time'); p.ylabel('Population size') # and of y-axis\n",
    "p.legend(['Resource ($N$)', 'Consumer ($C$)'], loc='best')"
   ]
  },
  {
   "cell_type": "code",
   "execution_count": 190,
   "id": "3d9b5cdb",
   "metadata": {},
   "outputs": [
    {
     "name": "stdout",
     "output_type": "stream",
     "text": [
      "Initial condition: [1. 1.]\n"
     ]
    },
    {
     "data": {
      "text/plain": [
       "[<matplotlib.lines.Line2D at 0x7f12c15d9ca0>]"
      ]
     },
     "execution_count": 190,
     "metadata": {},
     "output_type": "execute_result"
    },
    {
     "data": {
      "image/png": "[encoded data removed]",
      "text/plain": [
       "<Figure size 432x288 with 1 Axes>"
      ]
     },
     "metadata": {},
     "output_type": "display_data"
    }
   ],
   "source": [
    "# CHeck the phase space (i.e. plot the dependent variables, without respect to time)\n",
    "p.plot(NC_vec[0,0], NC_vec[0,1], 'o')\n",
    "print('Initial condition:', NC_vec[0])\n",
    "\n",
    "p.plot(NC_vec[:,0], NC_vec[:,1])\n",
    "\n",
    "#Another solution with a different initial condition:\n",
    "#NC_vec2 = odeint(LV, [2., 4.], t_vec, (r_m, K, a, e, z))\n",
    "#p.plot(NC_vec2[:,0], NC_vec2[:,1])\n",
    "#p.plot(NC_vec2[0,0], NC_vec2[0,1], 'o')\n",
    "#p.xlabel('Resource Population size'); p.ylabel('Consumer Population size') # and of y-axis"
   ]
  },
  {
   "cell_type": "code",
   "execution_count": null,
   "id": "7d2f1f9e",
   "metadata": {},
   "outputs": [],
   "source": []
  }
 ],
 "metadata": {
  "kernelspec": {
   "display_name": "Python 3 (ipykernel)",
   "language": "python",
   "name": "python3"
  },
  "language_info": {
   "codemirror_mode": {
    "name": "ipython",
    "version": 3
   },
   "file_extension": ".py",
   "mimetype": "text/x-python",
   "name": "python",
   "nbconvert_exporter": "python",
   "pygments_lexer": "ipython3",
   "version": "3.8.10"
  }
 },
 "nbformat": 4,
 "nbformat_minor": 5
}
