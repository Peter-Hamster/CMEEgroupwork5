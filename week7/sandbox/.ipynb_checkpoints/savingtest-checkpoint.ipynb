{
 "cells": [
  {
   "cell_type": "markdown",
   "id": "60e388ef",
   "metadata": {},
   "source": [
    "saving test"
   ]
  },
  {
   "cell_type": "code",
   "execution_count": 2,
   "id": "b0a7312b",
   "metadata": {},
   "outputs": [
    {
     "data": {
      "text/html": [
       "'/home/kate121/Documents/CMEECourseWork'"
      ],
      "text/latex": [
       "'/home/kate121/Documents/CMEECourseWork'"
      ],
      "text/markdown": [
       "'/home/kate121/Documents/CMEECourseWork'"
      ],
      "text/plain": [
       "[1] \"/home/kate121/Documents/CMEECourseWork\""
      ]
     },
     "metadata": {},
     "output_type": "display_data"
    }
   ],
   "source": [
    "getwd()"
   ]
  },
  {
   "cell_type": "code",
   "execution_count": null,
   "id": "f3cbe324",
   "metadata": {},
   "outputs": [],
   "source": [
    "setwd(/week7)"
   ]
  },
  {
   "cell_type": "code",
   "execution_count": null,
   "id": "9445ce63",
   "metadata": {},
   "outputs": [],
   "source": []
  },
  {
   "cell_type": "code",
   "execution_count": null,
   "id": "1bc26f5e",
   "metadata": {},
   "outputs": [],
   "source": []
  }
 ],
 "metadata": {
  "kernelspec": {
   "display_name": "R",
   "language": "R",
   "name": "ir"
  },
  "language_info": {
   "codemirror_mode": "r",
   "file_extension": ".r",
   "mimetype": "text/x-r-source",
   "name": "R",
   "pygments_lexer": "r",
   "version": "3.6.3"
  }
 },
 "nbformat": 4,
 "nbformat_minor": 5
}
