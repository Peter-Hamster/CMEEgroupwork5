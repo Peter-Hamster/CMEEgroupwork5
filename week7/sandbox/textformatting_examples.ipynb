{
 "cells": [
  {
   "cell_type": "markdown",
   "id": "0531e6d4",
   "metadata": {},
   "source": [
    "*italics*"
   ]
  },
  {
   "cell_type": "markdown",
   "id": "2e92cc1a",
   "metadata": {},
   "source": [
    "__bold__"
   ]
  },
  {
   "cell_type": "markdown",
   "id": "e0741bb9",
   "metadata": {},
   "source": [
    "~line~"
   ]
  }
 ],
 "metadata": {
  "kernelspec": {
   "display_name": "Python 3 (ipykernel)",
   "language": "python",
   "name": "python3"
  },
  "language_info": {
   "codemirror_mode": {
    "name": "ipython",
    "version": 3
   },
   "file_extension": ".py",
   "mimetype": "text/x-python",
   "name": "python",
   "nbconvert_exporter": "python",
   "pygments_lexer": "ipython3",
   "version": "3.8.10"
  }
 },
 "nbformat": 4,
 "nbformat_minor": 5
}
